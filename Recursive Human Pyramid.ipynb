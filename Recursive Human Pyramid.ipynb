{
 "cells": [
  {
   "cell_type": "markdown",
   "id": "55c3d0c8-7193-4345-8e8d-b962b2015b2c",
   "metadata": {},
   "source": [
    "#### Student Name: Mai Ngo\n",
    "#### Course Name and Number: DSC 430 Python Programming\n",
    "#### Assignment Name and Number: Assignment0402_HumanPyramid\n",
    "#### Date: 1/30/2023\n",
    "#### Honor Statement: “I have not given or received any unauthorized assistance on this assignment.\""
   ]
  },
  {
   "cell_type": "markdown",
   "id": "2216a643-b374-4222-b10c-3e560980298f",
   "metadata": {},
   "source": [
    "#### Assumption:"
   ]
  },
  {
   "cell_type": "markdown",
   "id": "0bcc763b-553c-42f9-98e0-6b76d305a924",
   "metadata": {},
   "source": [
    "Entry: Row value must <= column value <-- Pyramid shape. \\\n",
    "Calling parent(s): person E (2,1) has parent(s) B (1,0) and C (1,1). \\\n",
    "Generate formula: chosen person (row, col) has parent(s) (row-1, col) and (row-1, col-1) \\\n",
    "Outermost person only has one parent. In this class one parent will has '-1' column value --> eliminate.\\\n",
    "    #position = row, col \\\n",
    "    #position_parent1 = row - 1, col \\\n",
    "    #position_parent2 = row - 1, col - 1 "
   ]
  },
  {
   "cell_type": "markdown",
   "id": "5b06bc87-5f85-4bca-8fc4-4d2e357a8053",
   "metadata": {},
   "source": [
    "#### What is the base case of your recursive function?"
   ]
  },
  {
   "cell_type": "markdown",
   "id": "6adb3fc5-5295-404a-87f6-9556f6d67360",
   "metadata": {},
   "source": [
    "Base case: \"Whose definition does not rely on the definition of the function.\" Directly computed.\\\n",
    "Base case A(0,0) = 0 | A doesn't inherits any weight from above. \\\n",
    "Break down Recursion and base from example: \\\n",
    "    Person E (2 {row} , 1 {col}) has parents B(1 {row-1} ,0 {col}) and C(1 {row-1}, 1{col-1}) \\\n",
    "    Person B (1 {row-1} ,0 {col}) only has one parent Person A(0, 0). Also col = 0 indicate B is left outermost. Apply col == 0 condition. \\\n",
    "    Person A (0, 0) is base case, weight value never change."
   ]
  },
  {
   "cell_type": "markdown",
   "id": "a3cec309-06ac-4054-8632-86a4ae9a106a",
   "metadata": {},
   "source": [
    "#### Does everyone in the bottom row carry the same weight? Why or why not? If not, are there any that carry the same weight?"
   ]
  },
  {
   "cell_type": "markdown",
   "id": "de53843a-35c5-4c48-b9a0-dd2f3ef1677f",
   "metadata": {},
   "source": [
    "No, because 'inner' people of lower/bottom row carry more weight than 'outer' people. \\\n",
    "For example: D and F would inherit 96 lbs from above; while E inherits 192 lbs. \\\n",
    "With that, the two people on the outermost will carry the same weight, since they do not have to inherit the weights from two people above."
   ]
  },
  {
   "cell_type": "code",
   "execution_count": 104,
   "id": "e03344a6-a2be-4271-a34a-41496f15bc01",
   "metadata": {},
   "outputs": [],
   "source": [
    "def whatsUp(): \n",
    "    '''Greeting users entering the program and giving introduction.'''\n",
    "    \n",
    "    print(\"Welcome to HUMAN PYRAMID!\")\n",
    "    print(\"A little introduction: You will give us 2 numbers which are the row and column, that represent a person's position in the pyramid.\")    \n",
    "    print(\"We will return the total weight on that person's back.\")\n",
    "    print(\"User have a choice to exit after each round by clicking 'x' button. Have fun!\")\n",
    "    #Greet users and give a brief introduction about the program."
   ]
  },
  {
   "cell_type": "code",
   "execution_count": 105,
   "id": "e63af5e1-e72e-4d90-be92-b114e1e6db98",
   "metadata": {},
   "outputs": [],
   "source": [
    "def askInput():\n",
    "    '''Asking users to give 2 numbers for row and column.'''\n",
    "    row = int(abs(eval(input(\"Please input the row:\"))))\n",
    "    col = int(abs(eval(input(\"Please input the column:\"))))\n",
    "    #Asking user to input a number. Using \"eval\" to convert string to number.\n",
    "    #Using \"abs\" incase users enter negative value.\n",
    "    #Using \"int\" incase users enter rational number. Round down: 3.9 will be 3\n",
    "    \n",
    "    if col > row:  \n",
    "    #Row value cannot be larger than collum value.\n",
    "    #This is a pyramid shape. For ex: 5th row has 5 column max.\n",
    "    \n",
    "        print(\"Row value must be equal or less than column value. Re-enter:\")\n",
    "        #Clarify row/column number requirement.\n",
    "        row = int(abs(eval(input(\"Please input the row:\"))))\n",
    "        col = int(abs(eval(input(\"Please input the column:\"))))\n",
    "        #Request users to enter new set of row/column\n",
    "        \n",
    "    else: \n",
    "        return row, col\n",
    "    #If row value less than or equal to column value, accept.\n",
    "    return row, col"
   ]
  },
  {
   "cell_type": "code",
   "execution_count": 106,
   "id": "5ceb0b37-36cc-4613-9eec-7c57a536b5ed",
   "metadata": {},
   "outputs": [],
   "source": [
    "def humanPyramid(row, col):\n",
    "    '''Calculate the weight a person carries based on their position (row/column).'''\n",
    "    \n",
    "    carry_A = 0\n",
    "    #Person A doesn't inherit any weigh from above. Base case.\n",
    "    weight = 128\n",
    "    #Everyone weighs axactly 128 pounds.\n",
    "    \n",
    "    if row == 0 and col == 0:\n",
    "    #Person A position is (0,0)\n",
    "        return carry_A\n",
    "        #Return weight person A carries.\n",
    "        \n",
    "    elif col == 0:\n",
    "    #Check if this is a left outermost person. If so, only has a left parent.\n",
    "        return int(1/2*(humanPyramid(row - 1, col) + weight))\n",
    "        #Return weight of the left parent. Convert to integer to get rid of decimal numbers. \n",
    "        \n",
    "    elif row == col:\n",
    "    #Check if this is a right outermost person. If so, only has a right parent.\n",
    "        return int(1/2*(humanPyramid(row - 1, col - 1) + weight))\n",
    "        #Return weight of the right parent. Convert to integer to get rid of decimal numbers. \n",
    "        \n",
    "    else: \n",
    "    #Apply to the rest of the people inside the row.\n",
    "        return int(1/2 * (humanPyramid(row - 1, col) + weight) + 1/2 * (humanPyramid(row - 1, col - 1) + weight))\n",
    "        #Return weight of both left and right parents. Convert to integer to get rid of decimal numbers. \n",
    "        \n",
    "    return"
   ]
  },
  {
   "cell_type": "code",
   "execution_count": 107,
   "id": "5a8a395b-30ac-4580-8a62-43ca1b4bbeed",
   "metadata": {},
   "outputs": [],
   "source": [
    "def wishExit():\n",
    "    '''Asking user if they wish to exit or continue the program.'''\n",
    "    \n",
    "    choice = input('Please press any key to continue, or \"X\" to exit:')\n",
    "    #Asking user if they want to continue or exit to program.\n",
    "    \n",
    "    while choice not in 'Xx':\n",
    "    #If user choose to continue the program. This loop will keep repeating until user wish to exit. \n",
    "    \n",
    "        row, col = askInput()\n",
    "        #Ask user for new inputs. Assign to new variables.        \n",
    "        print(humanPyramid(row, col))\n",
    "        #Using humanPyramid() function to start over. \n",
    "        #Using print() to print new result for each round.\n",
    "        choice = input('Please press any key to continue, or \"X\" to exit:')\n",
    "        #Asking user again if they want to continue or exit to program.\n",
    "        \n",
    "    else: print (\"THE END. \\nThank you for joining!\")\n",
    "    #When user choose to exit the program.The end."
   ]
  },
  {
   "cell_type": "code",
   "execution_count": 108,
   "id": "9c6ddf2e-1fc5-49fc-9f14-98025922cba4",
   "metadata": {},
   "outputs": [],
   "source": [
    "def main():\n",
    "    whatsUp()\n",
    "    row_message, col_message = askInput()\n",
    "    result_message = humanPyramid(row_message, col_message)\n",
    "    print (result_message)\n",
    "    wishExit()"
   ]
  },
  {
   "cell_type": "code",
   "execution_count": 110,
   "id": "2758dd67-7fe7-435a-90a7-67b923882c2b",
   "metadata": {},
   "outputs": [
    {
     "name": "stdout",
     "output_type": "stream",
     "text": [
      "Welcome to HUMAN PYRAMID!\n",
      "A little introduction: You will give us 2 numbers which are the row and column, that represent a person's position in the pyramid.\n",
      "We will return the total weight on that person's back.\n",
      "User have a choice to exit after each round by clicking 'x' button. Have fun!\n"
     ]
    },
    {
     "name": "stdin",
     "output_type": "stream",
     "text": [
      "Please input the row: 4\n",
      "Please input the column: 2\n"
     ]
    },
    {
     "name": "stdout",
     "output_type": "stream",
     "text": [
      "400\n"
     ]
    },
    {
     "name": "stdin",
     "output_type": "stream",
     "text": [
      "Please press any key to continue, or \"X\" to exit: m\n",
      "Please input the row: 3\n",
      "Please input the column: 3\n"
     ]
    },
    {
     "name": "stdout",
     "output_type": "stream",
     "text": [
      "112\n"
     ]
    },
    {
     "name": "stdin",
     "output_type": "stream",
     "text": [
      "Please press any key to continue, or \"X\" to exit: a\n",
      "Please input the row: 2\n",
      "Please input the column: 1\n"
     ]
    },
    {
     "name": "stdout",
     "output_type": "stream",
     "text": [
      "192\n"
     ]
    },
    {
     "name": "stdin",
     "output_type": "stream",
     "text": [
      "Please press any key to continue, or \"X\" to exit: i\n",
      "Please input the row: 4\n",
      "Please input the column: 7\n"
     ]
    },
    {
     "name": "stdout",
     "output_type": "stream",
     "text": [
      "Row value must be equal or less than column value. Re-enter:\n"
     ]
    },
    {
     "name": "stdin",
     "output_type": "stream",
     "text": [
      "Please input the row: 3\n",
      "Please input the column: 0\n"
     ]
    },
    {
     "name": "stdout",
     "output_type": "stream",
     "text": [
      "112\n"
     ]
    },
    {
     "name": "stdin",
     "output_type": "stream",
     "text": [
      "Please press any key to continue, or \"X\" to exit: l\n",
      "Please input the row: 6\n",
      "Please input the column: 4\n"
     ]
    },
    {
     "name": "stdout",
     "output_type": "stream",
     "text": [
      "546\n"
     ]
    },
    {
     "name": "stdin",
     "output_type": "stream",
     "text": [
      "Please press any key to continue, or \"X\" to exit: x\n"
     ]
    },
    {
     "name": "stdout",
     "output_type": "stream",
     "text": [
      "THE END. \n",
      "Thank you for joining!\n"
     ]
    }
   ],
   "source": [
    "main()"
   ]
  },
  {
   "cell_type": "code",
   "execution_count": null,
   "id": "aa4c50de-85e1-492f-819c-7635d8a8e694",
   "metadata": {},
   "outputs": [],
   "source": []
  }
 ],
 "metadata": {
  "kernelspec": {
   "display_name": "Python 3 (ipykernel)",
   "language": "python",
   "name": "python3"
  },
  "language_info": {
   "codemirror_mode": {
    "name": "ipython",
    "version": 3
   },
   "file_extension": ".py",
   "mimetype": "text/x-python",
   "name": "python",
   "nbconvert_exporter": "python",
   "pygments_lexer": "ipython3",
   "version": "3.9.13"
  }
 },
 "nbformat": 4,
 "nbformat_minor": 5
}
